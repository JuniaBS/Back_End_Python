{
  "nbformat": 4,
  "nbformat_minor": 0,
  "metadata": {
    "colab": {
      "provenance": [],
      "authorship_tag": "ABX9TyMqxriGSZXgnWt1RrKUUFn2",
      "include_colab_link": true
    },
    "kernelspec": {
      "name": "python3",
      "display_name": "Python 3"
    },
    "language_info": {
      "name": "python"
    }
  },
  "cells": [
    {
      "cell_type": "markdown",
      "metadata": {
        "id": "view-in-github",
        "colab_type": "text"
      },
      "source": [
        "<a href=\"https://colab.research.google.com/github/JuniaBS/Back_End_Python/blob/main/Criando_um_Sistema_Banc%C3%A1rio_com_Python.ipynb\" target=\"_parent\"><img src=\"https://colab.research.google.com/assets/colab-badge.svg\" alt=\"Open In Colab\"/></a>"
      ]
    },
    {
      "cell_type": "markdown",
      "source": [
        "#Desafio\n",
        "Fomos contratados por um grande banco para desenvolver o seu novo sistema. Esse banco deseja modernizar suas operações e para isso escolheu a linguagem Python. Para a primeira versão do sistema devemos implementar apenas 3 operações: depósito, saque e extrato."
      ],
      "metadata": {
        "id": "1Xxrqq-VdTso"
      }
    },
    {
      "cell_type": "markdown",
      "source": [
        "##Operação de depósito\n",
        "Deve ser possível depositar valores positivos para a minha conta bancária. A v1 do projeto trabalha apenas com 1 usuário, dessa forma não precisamos nos preocupar em identificar qual é o número da agência e conta bancária. Todos os depósitos devem ser armazenados em uma variável e exibidos na operação de extrato.\n",
        "\n"
      ],
      "metadata": {
        "id": "s8APD4iGfgFQ"
      }
    },
    {
      "cell_type": "markdown",
      "source": [
        "##Operação de saque\n",
        "O sistema deve permitir realizar 3 saques diários com limite máximo de R$ 500,00 por saque. Caso o usuário não tenha saldo em conta, o sistema deve exibir uma mensagem informando que não será possível sacar o dinheiro por falta de saldo. Todos os saques devem ser armazenados em uma variável e exibidos na operação de extrato.\n"
      ],
      "metadata": {
        "id": "5HSSRvU7flEy"
      }
    },
    {
      "cell_type": "markdown",
      "source": [
        "##Operação de extrato\n",
        "Essa operação deve listar todos os depósitos e saques realizados na conta. No fim da listagem deve ser exibido o saldo atual da conta. Se o extrato estiver em branco, exibir a mensagem: Não foram realizadas movimentações.\n",
        "Os valores devem ser exibidos utilizando o formato (R$ xxx.xx), exemplo:\n",
        "1500.45 = R$ 1500.45"
      ],
      "metadata": {
        "id": "ZrLAjuOYfqTS"
      }
    },
    {
      "cell_type": "code",
      "source": [
        "# Menu de opções exibido ao usuário\n",
        "menu = \"\"\"\n",
        "[d] Depositar\n",
        "[s] Sacar\n",
        "[e] Extrato\n",
        "[q] Sair\n",
        "=> \"\"\"\n",
        "\n",
        "# Inicialização das variáveis\n",
        "saldo = 0                      # Saldo atual da conta\n",
        "limite = 500                   # Limite de valor por saque\n",
        "extrato = \"\"                   # Armazena o histórico de transações (depósitos e saques)\n",
        "numero_saques = 0              # Contador de saques realizados no dia\n",
        "LIMITE_SAQUES = 3              # Número máximo de saques permitidos por dia\n",
        "\n",
        "# Loop principal do programa (executa até o usuário escolher \"q\" para sair)\n",
        "while True:\n",
        "\n",
        "    opcao = input(menu)        # Exibe o menu e espera a escolha do usuário\n",
        "\n",
        "    # Bloco de DEPÓSITO\n",
        "    if opcao == \"d\":\n",
        "        valor = float(input(\"Informe o valor do depósito: \"))\n",
        "\n",
        "        if valor > 0:\n",
        "            saldo += valor     # Soma o valor ao saldo\n",
        "            extrato += f\"Depósito: R$ {valor:.2f}\\n\"  # Registra no extrato\n",
        "        else:\n",
        "            print(\"Operação falhou! O valor informado é inválido.\")  # Valor não pode ser negativo ou zero\n",
        "\n",
        "    # Bloco de SAQUE\n",
        "    elif opcao == \"s\":\n",
        "        valor = float(input(\"Informe o valor do saque: \"))\n",
        "\n",
        "        # Validações:\n",
        "        excedeu_saldo = valor > saldo              # Verifica se tem saldo suficiente\n",
        "        excedeu_limite = valor > limite            # Verifica se o valor ultrapassa o limite de R$ 500\n",
        "        excedeu_saques = numero_saques >= LIMITE_SAQUES  # Verifica se o número de saques já chegou ao limite\n",
        "\n",
        "        # Mensagens de erro personalizadas\n",
        "        if excedeu_saldo:\n",
        "            print(\"Operação falhou! Você não tem saldo suficiente.\")\n",
        "\n",
        "        elif excedeu_limite:\n",
        "            print(\"Operação falhou! O valor do saque excede o limite.\")\n",
        "\n",
        "        elif excedeu_saques:\n",
        "            print(\"Operação falhou! Número máximo de saques excedido.\")\n",
        "\n",
        "        elif valor > 0:\n",
        "            saldo -= valor                         # Subtrai do saldo\n",
        "            extrato += f\"Saque: R$ {valor:.2f}\\n\"  # Registra no extrato\n",
        "            numero_saques += 1                     # Atualiza o número de saques feitos\n",
        "\n",
        "        else:\n",
        "            print(\"Operação falhou! O valor informado é inválido.\")  # Valor negativo ou zero\n",
        "\n",
        "    # Bloco de EXTRATO\n",
        "    elif opcao == \"e\":\n",
        "        print(\"\\n================ EXTRATO ================\")\n",
        "        print(\"Não foram realizadas movimentações.\" if not extrato else extrato)  # Exibe extrato ou mensagem padrão\n",
        "        print(f\"\\nSaldo: R$ {saldo:.2f}\")  # Mostra saldo atual\n",
        "        print(\"==========================================\")\n",
        "\n",
        "    # Bloco de SAIR\n",
        "    elif opcao == \"q\":\n",
        "        break  # Interrompe o loop e finaliza o programa\n",
        "\n",
        "    # Opção inválida\n",
        "    else:\n",
        "        print(\"Operação inválida, por favor selecione novamente a operação desejada.\")"
      ],
      "metadata": {
        "id": "q5ufWZTpexN7"
      },
      "execution_count": null,
      "outputs": []
    }
  ]
}